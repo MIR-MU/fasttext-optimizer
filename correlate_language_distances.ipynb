{
  "nbformat": 4,
  "nbformat_minor": 5,
  "metadata": {
    "colab": {
      "name": "Tutorial: Suggesting Subword Sizes and Correlating Language Distances",
      "provenance": [],
      "collapsed_sections": [
        "-xwCIYVWA6Ex",
        "92fab22f-b014-4e86-9610-aad552b54047",
        "e5d4c778-3f27-4d7f-adeb-1f6e19feb798",
        "a61d58be-ef88-4a7a-b5d3-95694df16f70"
      ]
    },
    "kernelspec": {
      "display_name": "Python 3",
      "language": "python",
      "name": "python3"
    },
    "language_info": {
      "codemirror_mode": {
        "name": "ipython",
        "version": 3
      },
      "file_extension": ".py",
      "mimetype": "text/x-python",
      "name": "python",
      "nbconvert_exporter": "python",
      "pygments_lexer": "ipython3",
      "version": "3.7.3"
    },
    "widgets": {
      "application/vnd.jupyter.widget-state+json": {
        "aa66be568c6b469aa9054102063d6fae": {
          "model_module": "@jupyter-widgets/controls",
          "model_name": "HBoxModel",
          "model_module_version": "1.5.0",
          "state": {
            "_view_name": "HBoxView",
            "_dom_classes": [],
            "_model_name": "HBoxModel",
            "_view_module": "@jupyter-widgets/controls",
            "_model_module_version": "1.5.0",
            "_view_count": null,
            "_view_module_version": "1.5.0",
            "box_style": "",
            "layout": "IPY_MODEL_4a0194c39d3f499e94974cc15e1b90cb",
            "_model_module": "@jupyter-widgets/controls",
            "children": [
              "IPY_MODEL_9be0b915cfac44c58c77f56258266c7d",
              "IPY_MODEL_8708518e1248405e836cc4cb6c3b1594",
              "IPY_MODEL_414820eeb6c64041a071d1509ef26695"
            ]
          }
        },
        "4a0194c39d3f499e94974cc15e1b90cb": {
          "model_module": "@jupyter-widgets/base",
          "model_name": "LayoutModel",
          "model_module_version": "1.2.0",
          "state": {
            "_view_name": "LayoutView",
            "grid_template_rows": null,
            "right": null,
            "justify_content": null,
            "_view_module": "@jupyter-widgets/base",
            "overflow": null,
            "_model_module_version": "1.2.0",
            "_view_count": null,
            "flex_flow": null,
            "width": null,
            "min_width": null,
            "border": null,
            "align_items": null,
            "bottom": null,
            "_model_module": "@jupyter-widgets/base",
            "top": null,
            "grid_column": null,
            "overflow_y": null,
            "overflow_x": null,
            "grid_auto_flow": null,
            "grid_area": null,
            "grid_template_columns": null,
            "flex": null,
            "_model_name": "LayoutModel",
            "justify_items": null,
            "grid_row": null,
            "max_height": null,
            "align_content": null,
            "visibility": null,
            "align_self": null,
            "height": null,
            "min_height": null,
            "padding": null,
            "grid_auto_rows": null,
            "grid_gap": null,
            "max_width": null,
            "order": null,
            "_view_module_version": "1.2.0",
            "grid_template_areas": null,
            "object_position": null,
            "object_fit": null,
            "grid_auto_columns": null,
            "margin": null,
            "display": null,
            "left": null
          }
        },
        "9be0b915cfac44c58c77f56258266c7d": {
          "model_module": "@jupyter-widgets/controls",
          "model_name": "HTMLModel",
          "model_module_version": "1.5.0",
          "state": {
            "_view_name": "HTMLView",
            "style": "IPY_MODEL_ce5f615cb21f4b9daec8f78b10af2562",
            "_dom_classes": [],
            "description": "",
            "_model_name": "HTMLModel",
            "placeholder": "​",
            "_view_module": "@jupyter-widgets/controls",
            "_model_module_version": "1.5.0",
            "value": "100%",
            "_view_count": null,
            "_view_module_version": "1.5.0",
            "description_tooltip": null,
            "_model_module": "@jupyter-widgets/controls",
            "layout": "IPY_MODEL_dcb3ad4068eb4458a69fc22528d5749c"
          }
        },
        "8708518e1248405e836cc4cb6c3b1594": {
          "model_module": "@jupyter-widgets/controls",
          "model_name": "FloatProgressModel",
          "model_module_version": "1.5.0",
          "state": {
            "_view_name": "ProgressView",
            "style": "IPY_MODEL_56975f18eb7142c3bbbf96d6ab7c4840",
            "_dom_classes": [],
            "description": "",
            "_model_name": "FloatProgressModel",
            "bar_style": "success",
            "max": 5,
            "_view_module": "@jupyter-widgets/controls",
            "_model_module_version": "1.5.0",
            "value": 5,
            "_view_count": null,
            "_view_module_version": "1.5.0",
            "orientation": "horizontal",
            "min": 0,
            "description_tooltip": null,
            "_model_module": "@jupyter-widgets/controls",
            "layout": "IPY_MODEL_9b03bc606c5347d1a0ef1eb3ca7f251a"
          }
        },
        "414820eeb6c64041a071d1509ef26695": {
          "model_module": "@jupyter-widgets/controls",
          "model_name": "HTMLModel",
          "model_module_version": "1.5.0",
          "state": {
            "_view_name": "HTMLView",
            "style": "IPY_MODEL_44d3aa04cf694a5786b6962c28a721fa",
            "_dom_classes": [],
            "description": "",
            "_model_name": "HTMLModel",
            "placeholder": "​",
            "_view_module": "@jupyter-widgets/controls",
            "_model_module_version": "1.5.0",
            "value": " 5/5 [40:29&lt;00:00, 486.41s/it]",
            "_view_count": null,
            "_view_module_version": "1.5.0",
            "description_tooltip": null,
            "_model_module": "@jupyter-widgets/controls",
            "layout": "IPY_MODEL_9121d20508fa431eaed4892db8133b97"
          }
        },
        "ce5f615cb21f4b9daec8f78b10af2562": {
          "model_module": "@jupyter-widgets/controls",
          "model_name": "DescriptionStyleModel",
          "model_module_version": "1.5.0",
          "state": {
            "_view_name": "StyleView",
            "_model_name": "DescriptionStyleModel",
            "description_width": "",
            "_view_module": "@jupyter-widgets/base",
            "_model_module_version": "1.5.0",
            "_view_count": null,
            "_view_module_version": "1.2.0",
            "_model_module": "@jupyter-widgets/controls"
          }
        },
        "dcb3ad4068eb4458a69fc22528d5749c": {
          "model_module": "@jupyter-widgets/base",
          "model_name": "LayoutModel",
          "model_module_version": "1.2.0",
          "state": {
            "_view_name": "LayoutView",
            "grid_template_rows": null,
            "right": null,
            "justify_content": null,
            "_view_module": "@jupyter-widgets/base",
            "overflow": null,
            "_model_module_version": "1.2.0",
            "_view_count": null,
            "flex_flow": null,
            "width": null,
            "min_width": null,
            "border": null,
            "align_items": null,
            "bottom": null,
            "_model_module": "@jupyter-widgets/base",
            "top": null,
            "grid_column": null,
            "overflow_y": null,
            "overflow_x": null,
            "grid_auto_flow": null,
            "grid_area": null,
            "grid_template_columns": null,
            "flex": null,
            "_model_name": "LayoutModel",
            "justify_items": null,
            "grid_row": null,
            "max_height": null,
            "align_content": null,
            "visibility": null,
            "align_self": null,
            "height": null,
            "min_height": null,
            "padding": null,
            "grid_auto_rows": null,
            "grid_gap": null,
            "max_width": null,
            "order": null,
            "_view_module_version": "1.2.0",
            "grid_template_areas": null,
            "object_position": null,
            "object_fit": null,
            "grid_auto_columns": null,
            "margin": null,
            "display": null,
            "left": null
          }
        },
        "56975f18eb7142c3bbbf96d6ab7c4840": {
          "model_module": "@jupyter-widgets/controls",
          "model_name": "ProgressStyleModel",
          "model_module_version": "1.5.0",
          "state": {
            "_view_name": "StyleView",
            "_model_name": "ProgressStyleModel",
            "description_width": "",
            "_view_module": "@jupyter-widgets/base",
            "_model_module_version": "1.5.0",
            "_view_count": null,
            "_view_module_version": "1.2.0",
            "bar_color": null,
            "_model_module": "@jupyter-widgets/controls"
          }
        },
        "9b03bc606c5347d1a0ef1eb3ca7f251a": {
          "model_module": "@jupyter-widgets/base",
          "model_name": "LayoutModel",
          "model_module_version": "1.2.0",
          "state": {
            "_view_name": "LayoutView",
            "grid_template_rows": null,
            "right": null,
            "justify_content": null,
            "_view_module": "@jupyter-widgets/base",
            "overflow": null,
            "_model_module_version": "1.2.0",
            "_view_count": null,
            "flex_flow": null,
            "width": null,
            "min_width": null,
            "border": null,
            "align_items": null,
            "bottom": null,
            "_model_module": "@jupyter-widgets/base",
            "top": null,
            "grid_column": null,
            "overflow_y": null,
            "overflow_x": null,
            "grid_auto_flow": null,
            "grid_area": null,
            "grid_template_columns": null,
            "flex": null,
            "_model_name": "LayoutModel",
            "justify_items": null,
            "grid_row": null,
            "max_height": null,
            "align_content": null,
            "visibility": null,
            "align_self": null,
            "height": null,
            "min_height": null,
            "padding": null,
            "grid_auto_rows": null,
            "grid_gap": null,
            "max_width": null,
            "order": null,
            "_view_module_version": "1.2.0",
            "grid_template_areas": null,
            "object_position": null,
            "object_fit": null,
            "grid_auto_columns": null,
            "margin": null,
            "display": null,
            "left": null
          }
        },
        "44d3aa04cf694a5786b6962c28a721fa": {
          "model_module": "@jupyter-widgets/controls",
          "model_name": "DescriptionStyleModel",
          "model_module_version": "1.5.0",
          "state": {
            "_view_name": "StyleView",
            "_model_name": "DescriptionStyleModel",
            "description_width": "",
            "_view_module": "@jupyter-widgets/base",
            "_model_module_version": "1.5.0",
            "_view_count": null,
            "_view_module_version": "1.2.0",
            "_model_module": "@jupyter-widgets/controls"
          }
        },
        "9121d20508fa431eaed4892db8133b97": {
          "model_module": "@jupyter-widgets/base",
          "model_name": "LayoutModel",
          "model_module_version": "1.2.0",
          "state": {
            "_view_name": "LayoutView",
            "grid_template_rows": null,
            "right": null,
            "justify_content": null,
            "_view_module": "@jupyter-widgets/base",
            "overflow": null,
            "_model_module_version": "1.2.0",
            "_view_count": null,
            "flex_flow": null,
            "width": null,
            "min_width": null,
            "border": null,
            "align_items": null,
            "bottom": null,
            "_model_module": "@jupyter-widgets/base",
            "top": null,
            "grid_column": null,
            "overflow_y": null,
            "overflow_x": null,
            "grid_auto_flow": null,
            "grid_area": null,
            "grid_template_columns": null,
            "flex": null,
            "_model_name": "LayoutModel",
            "justify_items": null,
            "grid_row": null,
            "max_height": null,
            "align_content": null,
            "visibility": null,
            "align_self": null,
            "height": null,
            "min_height": null,
            "padding": null,
            "grid_auto_rows": null,
            "grid_gap": null,
            "max_width": null,
            "order": null,
            "_view_module_version": "1.2.0",
            "grid_template_areas": null,
            "object_position": null,
            "object_fit": null,
            "grid_auto_columns": null,
            "margin": null,
            "display": null,
            "left": null
          }
        }
      }
    }
  },
  "cells": [
    {
      "cell_type": "markdown",
      "metadata": {
        "id": "53f92b60-aebc-4b37-aeaa-4f480614587c"
      },
      "source": [
        "# Tutorial: Suggesting Subword Sizes and Correlating Language Distances\n",
        "\n",
        "In this tutorial, we will use our $n$-gram coverage model to suggest near-optimal subword sizes for under-resourced languages, where optimal subword sizes are unknown. To show that the $n$-gram coverage model holds a wealth of typological, geographical, and phylogenetic information, we will also correlate the Euclidean distances between the suggested subword sizes of Wikipedia languages against the syntactic, geographic, phonological, genetic, and inventory language distances of [Littell et al. (2017)][1].\n",
        "\n",
        " [1]: https://github.com/antonisa/lang2vec#retrieving-pre-computed-distances\n",
        "\n",
        "## Word Embeddings\n",
        "\n",
        "Unsupervised representation learning of words from large multilingual corpora is useful for downstream tasks such as word sense disambiguation, semantic text similarity, and information retrieval. The representation precision of log-bilinear fastText models is mostly due to their use of subword information. In previous work, the optimization of fastText's subword sizes has not been fully explored, and non-English fastText models were trained using subword sizes optimized for English and German word analogy tasks.\n",
        "\n",
        "## Suggested Subword Sizes\n",
        "\n",
        "We propose a cheap and simple $n$-gram coverage model that consistently improves the accuracy of fastText models on the word analogy tasks by up to 3% compared to the default subword sizes, and that it is within 1% accuracy of the optimal subword sizes on average. Subword sizes suggested by our $n$-gram coverage model can be used in applications of fastText as the new default for under-resourced languages, where the optimal subword sizes are unknown.\n",
        "\n",
        "## Software Package\n",
        "\n",
        "You can find our package [here][2].\n",
        "\n",
        " [2]: https://github.com/MIR-MU/fasttext-optimizer"
      ],
      "id": "53f92b60-aebc-4b37-aeaa-4f480614587c"
    },
    {
      "cell_type": "markdown",
      "metadata": {
        "id": "0278eaab-6f48-466d-8521-7f893ffd16b9"
      },
      "source": [
        "# Installing lang2vec\n",
        "\n",
        "First, we will install the lang2vec library for computing syntactic, geographic, phonological, genetic, and inventory language distances."
      ],
      "id": "0278eaab-6f48-466d-8521-7f893ffd16b9"
    },
    {
      "cell_type": "code",
      "metadata": {
        "id": "73ee05c3-11ee-450f-bddc-81cbaf1ffb9f"
      },
      "source": [
        "%%capture\n",
        "! pip install -U pip\n",
        "! pip install git+https://github.com/antonisa/lang2vec.git\n",
        "! pip install pandas pycountry scipy"
      ],
      "id": "73ee05c3-11ee-450f-bddc-81cbaf1ffb9f",
      "execution_count": 1,
      "outputs": []
    },
    {
      "cell_type": "markdown",
      "metadata": {
        "id": "84e39818-0578-42ff-9f4f-ee319d57c86c"
      },
      "source": [
        "If you use lang2vec, please cite the following paper:\n",
        "\n",
        "``` bibtex\n",
        "@inproceedings{littell2017uriel,\n",
        "  title = {Uriel and lang2vec: Representing languages as typological, geographical, and phylogenetic vectors},\n",
        "  author = {Littell, Patrick and Mortensen, David R and Lin, Ke and Kairis, Katherine and Turner, Carlisle and Levin, Lori},\n",
        "  booktitle = {Proceedings of the 15th Conference of the European Chapter of the Association for Computational Linguistics: Volume 2, Short Papers},\n",
        "  volume = {2},\n",
        "  pages = {8--14},\n",
        "  year = {2017}\n",
        "}\n",
        "```"
      ],
      "id": "84e39818-0578-42ff-9f4f-ee319d57c86c"
    },
    {
      "cell_type": "markdown",
      "metadata": {
        "id": "1zz-NA-5AwuF"
      },
      "source": [
        "## Restart the Notebook\n",
        "\n",
        "For the changes to take effect, we now need to restart the notebook.\n",
        "\n",
        "From the Menu:\n",
        "\n",
        "Runtime → Restart Runtime"
      ],
      "id": "1zz-NA-5AwuF"
    },
    {
      "cell_type": "markdown",
      "metadata": {
        "id": "-xwCIYVWA6Ex"
      },
      "source": [
        "# Downloading the Data\n",
        "\n",
        "Next, we will download the [MIR-MU/fasttext-optimizer][1] Git repository with the precomputed suggested subword sizes.\n",
        "\n",
        " [1]: https://github.com/MIR-MU/fasttext-optimizer"
      ],
      "id": "-xwCIYVWA6Ex"
    },
    {
      "cell_type": "code",
      "metadata": {
        "id": "f49-nKZ3BdlP"
      },
      "source": [
        "%%capture\n",
        "! git clone https://github.com/MIR-MU/fasttext-optimizer.git\n",
        "! ln -s fasttext-optimizer/data data"
      ],
      "id": "f49-nKZ3BdlP",
      "execution_count": 1,
      "outputs": []
    },
    {
      "cell_type": "markdown",
      "metadata": {
        "id": "92fab22f-b014-4e86-9610-aad552b54047"
      },
      "source": [
        "# Suggesting Subword Sizes\n",
        "\n",
        "We can use the $n$-gram coverage model to suggest subword sizes for any Wikipedia language, including under-resourced languages such as Icelandic, Estonian, and Inuktitut for which optimal subword sizes are unknown."
      ],
      "id": "92fab22f-b014-4e86-9610-aad552b54047"
    },
    {
      "cell_type": "code",
      "metadata": {
        "id": "8c835040-c1cf-46a3-a265-880c3cd22c56"
      },
      "source": [
        "import pycountry\n",
        "\n",
        "denormalize_language_map = dict()\n",
        "\n",
        "def get_ngram_coverage(language: str, minn: int, maxn: int, lower_limit: int = 1, upper_limit: int = 10) -> float:\n",
        "    try:\n",
        "        language = denormalize_language_map[language]\n",
        "    except KeyError:\n",
        "        language = pycountry.languages.lookup(language).alpha_2\n",
        "    with open(f'data/wikimedia/wiki.{language}.json', 'rt') as f:\n",
        "        subterm_length_freqs = json.load(f)['subterm_length_freqs']\n",
        "    total_subterms = sum(subterm_length_freqs.values())\n",
        "    coverage = sum(\n",
        "        subterm_length_freqs[f'{subterm_size}']\n",
        "        for subterm_size in range(minn, maxn + 1)\n",
        "    ) / total_subterms\n",
        "    return coverage * 100.0"
      ],
      "id": "8c835040-c1cf-46a3-a265-880c3cd22c56",
      "execution_count": 2,
      "outputs": []
    },
    {
      "cell_type": "code",
      "metadata": {
        "id": "ee7083c4-b46a-45e9-b89e-25ebd3fc5381"
      },
      "source": [
        "from itertools import product\n",
        "import json\n",
        "from typing import Tuple\n",
        "import re\n",
        "\n",
        "def suggest_subword_sizes(language: str, lower_limit: int = 1, upper_limit: int = 10, optimum: float = 4.91) -> Tuple[int, int]:\n",
        "    best_minn, best_maxn, best_coverage = None, None, float('inf')\n",
        "    parameter_space = range(lower_limit, upper_limit + 1)\n",
        "    parameter_space = ((i, j) for i, j in product(parameter_space, parameter_space) if i <= j)\n",
        "    for minn, maxn in parameter_space:\n",
        "        coverage = get_ngram_coverage(language, minn, maxn)\n",
        "        if abs(coverage - optimum) < abs(best_coverage - optimum):\n",
        "            best_minn, best_maxn, best_coverage = minn, maxn, coverage\n",
        "    return (best_minn, best_maxn)"
      ],
      "id": "ee7083c4-b46a-45e9-b89e-25ebd3fc5381",
      "execution_count": 3,
      "outputs": []
    },
    {
      "cell_type": "code",
      "metadata": {
        "colab": {
          "base_uri": "https://localhost:8080/"
        },
        "id": "46065918-0802-4c59-9732-6156a9fed100",
        "outputId": "18251390-9526-48fc-8f64-2856606cfffa"
      },
      "source": [
        "suggest_subword_sizes('isl')  # Icelandic"
      ],
      "id": "46065918-0802-4c59-9732-6156a9fed100",
      "execution_count": 4,
      "outputs": [
        {
          "output_type": "execute_result",
          "data": {
            "text/plain": [
              "(1, 4)"
            ]
          },
          "metadata": {},
          "execution_count": 4
        }
      ]
    },
    {
      "cell_type": "code",
      "metadata": {
        "colab": {
          "base_uri": "https://localhost:8080/"
        },
        "id": "8ffcb01f-6ccf-46b0-8b6e-eedd0921145f",
        "outputId": "f7b2b241-68b2-43ff-9070-0cf6d787a48d"
      },
      "source": [
        "suggest_subword_sizes('est')  # Estonian"
      ],
      "id": "8ffcb01f-6ccf-46b0-8b6e-eedd0921145f",
      "execution_count": 5,
      "outputs": [
        {
          "output_type": "execute_result",
          "data": {
            "text/plain": [
              "(4, 5)"
            ]
          },
          "metadata": {},
          "execution_count": 5
        }
      ]
    },
    {
      "cell_type": "code",
      "metadata": {
        "colab": {
          "base_uri": "https://localhost:8080/"
        },
        "id": "a8eb0ea2-da0b-434c-8344-b6cdb6be79f0",
        "outputId": "84838f4b-5b3c-4267-a4ee-9c7ea0a2fcbf"
      },
      "source": [
        "suggest_subword_sizes('iku')  # Inuktitut"
      ],
      "id": "a8eb0ea2-da0b-434c-8344-b6cdb6be79f0",
      "execution_count": 6,
      "outputs": [
        {
          "output_type": "execute_result",
          "data": {
            "text/plain": [
              "(10, 10)"
            ]
          },
          "metadata": {},
          "execution_count": 6
        }
      ]
    },
    {
      "cell_type": "markdown",
      "metadata": {
        "id": "e5d4c778-3f27-4d7f-adeb-1f6e19feb798"
      },
      "source": [
        "# Computing Language Distances\n",
        "\n",
        "The suggested subword sizes are 2D vectors, which we can use to compute distances between languages."
      ],
      "id": "e5d4c778-3f27-4d7f-adeb-1f6e19feb798"
    },
    {
      "cell_type": "code",
      "metadata": {
        "id": "e4efd754-42b0-4758-b4e9-7566cdd41fc8"
      },
      "source": [
        "from scipy.spatial.distance import euclidean, cosine\n",
        "\n",
        "def suggested_subword_size_distance(first_language: str, second_language: str) -> float:\n",
        "    first_vector = suggest_subword_sizes(first_language)\n",
        "    second_vector = suggest_subword_sizes(second_language)\n",
        "    distance = euclidean(first_vector, second_vector)\n",
        "    return distance\n",
        "\n",
        "def suggested_subword_size_distance_helper(args: Tuple[str, str]) -> float:\n",
        "    distance = suggested_subword_size_distance(*args)\n",
        "    return distance"
      ],
      "id": "e4efd754-42b0-4758-b4e9-7566cdd41fc8",
      "execution_count": 7,
      "outputs": []
    },
    {
      "cell_type": "code",
      "metadata": {
        "colab": {
          "base_uri": "https://localhost:8080/"
        },
        "id": "0ea6d064-26a6-40d3-a781-140dd02a1e55",
        "outputId": "cc660e7a-fc23-4e72-b09e-7f8e77009b49"
      },
      "source": [
        "suggested_subword_size_distance('ces', 'slk')  # Czech and Slovak"
      ],
      "id": "0ea6d064-26a6-40d3-a781-140dd02a1e55",
      "execution_count": 8,
      "outputs": [
        {
          "output_type": "execute_result",
          "data": {
            "text/plain": [
              "0.0"
            ]
          },
          "metadata": {},
          "execution_count": 8
        }
      ]
    },
    {
      "cell_type": "code",
      "metadata": {
        "colab": {
          "base_uri": "https://localhost:8080/"
        },
        "id": "2fe99f83-3df4-46af-b0b1-557acd56e21c",
        "outputId": "51c1ad5c-8205-450b-9f0c-1269d1b51212"
      },
      "source": [
        "suggested_subword_size_distance('ces', 'ger')  # Czech and German"
      ],
      "id": "2fe99f83-3df4-46af-b0b1-557acd56e21c",
      "execution_count": 9,
      "outputs": [
        {
          "output_type": "execute_result",
          "data": {
            "text/plain": [
              "5.385164807134504"
            ]
          },
          "metadata": {},
          "execution_count": 9
        }
      ]
    },
    {
      "cell_type": "code",
      "metadata": {
        "colab": {
          "base_uri": "https://localhost:8080/"
        },
        "id": "d3fb1928-051b-4af6-9608-54fe8bd82b49",
        "outputId": "e1bc9490-d639-4f05-807b-a159774f6617"
      },
      "source": [
        "suggested_subword_size_distance('ces', 'kor')  # Czech and Korean"
      ],
      "id": "d3fb1928-051b-4af6-9608-54fe8bd82b49",
      "execution_count": 10,
      "outputs": [
        {
          "output_type": "execute_result",
          "data": {
            "text/plain": [
              "8.06225774829855"
            ]
          },
          "metadata": {},
          "execution_count": 10
        }
      ]
    },
    {
      "cell_type": "markdown",
      "metadata": {
        "id": "a61d58be-ef88-4a7a-b5d3-95694df16f70"
      },
      "source": [
        "# Correlating Language Distances\n",
        "\n",
        "We can correlate our language distance with the syntactic, geographic, phonological, genetic, and inventory language distances of [Littell et al. (2017)][1] to see if our language distance measure represents interpretable linguistic phenomena.\n",
        "\n",
        " [1]: https://github.com/antonisa/lang2vec#retrieving-pre-computed-distances"
      ],
      "id": "a61d58be-ef88-4a7a-b5d3-95694df16f70"
    },
    {
      "cell_type": "code",
      "metadata": {
        "id": "98e9e227-8097-46ce-8f2e-d879a9712832"
      },
      "source": [
        "def normalize_language(language: str) -> str:\n",
        "    try:\n",
        "        lookup = pycountry.languages.lookup(language)\n",
        "        try:\n",
        "            return lookup.alpha_3\n",
        "        except AttributeError:\n",
        "            return None\n",
        "    except LookupError:\n",
        "        return None"
      ],
      "id": "98e9e227-8097-46ce-8f2e-d879a9712832",
      "execution_count": 11,
      "outputs": []
    },
    {
      "cell_type": "code",
      "metadata": {
        "id": "93cc30ad-9813-42a4-a7ea-1f566cb8b382"
      },
      "source": [
        "import lang2vec.lang2vec as l2v\n",
        "\n",
        "lang2vec_languages = l2v.DISTANCE_LANGUAGES\n",
        "lang2vec_languages = map(normalize_language, lang2vec_languages)\n",
        "lang2vec_languages = filter(lambda language: language is not None, lang2vec_languages)\n",
        "lang2vec_languages = set(lang2vec_languages)"
      ],
      "id": "93cc30ad-9813-42a4-a7ea-1f566cb8b382",
      "execution_count": 12,
      "outputs": []
    },
    {
      "cell_type": "code",
      "metadata": {
        "id": "bca329da-014b-49b9-896a-511877c726b1"
      },
      "source": [
        "from pathlib import Path\n",
        "\n",
        "coverage_languages = [pathname.suffixes[0][1:] for pathname in (Path('data')/'wikimedia').glob('*.json')]\n",
        "for denormalized_language, normalized_language in zip(coverage_languages, map(normalize_language, coverage_languages)):\n",
        "    denormalize_language_map[normalized_language] = denormalized_language\n",
        "coverage_languages = map(normalize_language, coverage_languages)\n",
        "coverage_languages = filter(lambda language: language is not None, coverage_languages)\n",
        "coverage_languages = set(coverage_languages)"
      ],
      "id": "bca329da-014b-49b9-896a-511877c726b1",
      "execution_count": 13,
      "outputs": []
    },
    {
      "cell_type": "code",
      "metadata": {
        "colab": {
          "base_uri": "https://localhost:8080/",
          "height": 45
        },
        "id": "1fe08100-73a0-4cfe-bb70-117840fb407a",
        "outputId": "cf3a93c0-9aa4-405c-d58f-f057cc4e2c47"
      },
      "source": [
        "from IPython.display import display, Markdown\n",
        "\n",
        "languages = sorted(lang2vec_languages & coverage_languages)\n",
        "\n",
        "display(Markdown(f'We will correlate the distances for {len(languages)} languages.'))"
      ],
      "id": "1fe08100-73a0-4cfe-bb70-117840fb407a",
      "execution_count": 14,
      "outputs": [
        {
          "output_type": "display_data",
          "data": {
            "text/markdown": "We will correlate the distances for 282 languages.",
            "text/plain": [
              "<IPython.core.display.Markdown object>"
            ]
          },
          "metadata": {}
        }
      ]
    },
    {
      "cell_type": "code",
      "metadata": {
        "id": "su9InY4V0JnW"
      },
      "source": [
        "from random import random, seed\n",
        "\n",
        "seed(0)\n",
        "random_scalars = {language: random() for language in languages}\n",
        "\n",
        "def random_distance(first_language: str, second_language: str) -> float:\n",
        "    distance = euclidean(random_scalars[first_language], random_scalars[second_language])\n",
        "    return distance\n",
        "\n",
        "def random_distance_helper(args: Tuple[str, str]) -> float:\n",
        "    distance = random_distance(*args)\n",
        "    return distance"
      ],
      "id": "su9InY4V0JnW",
      "execution_count": 15,
      "outputs": []
    },
    {
      "cell_type": "code",
      "metadata": {
        "id": "01f5044d"
      },
      "source": [
        "geographic_distance_matrix = l2v.distance('geographic', languages)\n",
        "\n",
        "def geographic_distance(first_language: str, second_language: str) -> float:\n",
        "    distance = geographic_distance_matrix[languages.index(first_language), languages.index(second_language)]\n",
        "    return distance\n",
        "\n",
        "def geographic_distance_helper(args: Tuple[str, str]) -> float:\n",
        "    distance = geographic_distance(*args)\n",
        "    return distance"
      ],
      "id": "01f5044d",
      "execution_count": 16,
      "outputs": []
    },
    {
      "cell_type": "code",
      "metadata": {
        "id": "99c8b9db"
      },
      "source": [
        "genetic_distance_matrix = l2v.distance('genetic', languages)\n",
        "\n",
        "def genetic_distance(first_language: str, second_language: str) -> float:\n",
        "    distance = genetic_distance_matrix[languages.index(first_language), languages.index(second_language)]\n",
        "    return distance\n",
        "\n",
        "def genetic_distance_helper(args: Tuple[str, str]) -> float:\n",
        "    distance = genetic_distance(*args)\n",
        "    return distance"
      ],
      "id": "99c8b9db",
      "execution_count": 17,
      "outputs": []
    },
    {
      "cell_type": "code",
      "metadata": {
        "id": "9a11912c"
      },
      "source": [
        "syntactic_distance_matrix = l2v.distance('syntactic', languages)\n",
        "\n",
        "def syntactic_distance(first_language: str, second_language: str) -> float:\n",
        "    distance = syntactic_distance_matrix[languages.index(first_language), languages.index(second_language)]\n",
        "    return distance\n",
        "\n",
        "def syntactic_distance_helper(args: Tuple[str, str]) -> float:\n",
        "    distance = syntactic_distance(*args)\n",
        "    return distance"
      ],
      "id": "9a11912c",
      "execution_count": 18,
      "outputs": []
    },
    {
      "cell_type": "code",
      "metadata": {
        "id": "7b9d55fe"
      },
      "source": [
        "phonological_distance_matrix = l2v.distance('phonological', languages)\n",
        "\n",
        "def phonological_distance(first_language: str, second_language: str) -> float:\n",
        "    distance = phonological_distance_matrix[languages.index(first_language), languages.index(second_language)]\n",
        "    return distance\n",
        "\n",
        "def phonological_distance_helper(args: Tuple[str, str]) -> float:\n",
        "    distance = phonological_distance(*args)\n",
        "    return distance"
      ],
      "id": "7b9d55fe",
      "execution_count": 19,
      "outputs": []
    },
    {
      "cell_type": "code",
      "metadata": {
        "id": "28f1477d"
      },
      "source": [
        "inventory_distance_matrix = l2v.distance('inventory', languages)\n",
        "\n",
        "def inventory_distance(first_language: str, second_language: str) -> float:\n",
        "    distance = inventory_distance_matrix[languages.index(first_language), languages.index(second_language)]\n",
        "    return distance\n",
        "\n",
        "def inventory_distance_helper(args: Tuple[str, str]) -> float:\n",
        "    distance = inventory_distance(*args)\n",
        "    return distance"
      ],
      "id": "28f1477d",
      "execution_count": 20,
      "outputs": []
    },
    {
      "cell_type": "code",
      "metadata": {
        "id": "6b5c59eb-b2ef-4148-ab4f-72048ac5640b"
      },
      "source": [
        "from typing import Callable\n",
        "from multiprocessing import Pool\n",
        "\n",
        "import scipy.stats\n",
        "\n",
        "def correlate_distances(first_distance_callable: Callable[[str, str], float],\n",
        "                        second_distance_type: str, correlation_type: str = 'pearsonr') -> dict:\n",
        "    first_distances, second_distances = [], []\n",
        "    second_distance_matrix = l2v.distance(second_distance_type, languages)\n",
        "    parameter_space = [(first, second) for first, second in product(languages, languages) if first < second]\n",
        "    with Pool(None) as pool:\n",
        "        first_distances_iter = pool.imap(first_distance_callable, parameter_space)\n",
        "        for (first_language, second_language), first_distance in zip(parameter_space, first_distances_iter):\n",
        "            second_distance = second_distance_matrix[languages.index(first_language), languages.index(second_language)]\n",
        "            first_distances.append(first_distance)\n",
        "            second_distances.append(second_distance)\n",
        "    correlation, _ = scipy.stats.__dict__[correlation_type](first_distances, second_distances)\n",
        "    return correlation"
      ],
      "id": "6b5c59eb-b2ef-4148-ab4f-72048ac5640b",
      "execution_count": 21,
      "outputs": []
    },
    {
      "cell_type": "code",
      "metadata": {
        "colab": {
          "base_uri": "https://localhost:8080/",
          "height": 297,
          "referenced_widgets": [
            "aa66be568c6b469aa9054102063d6fae",
            "4a0194c39d3f499e94974cc15e1b90cb",
            "9be0b915cfac44c58c77f56258266c7d",
            "8708518e1248405e836cc4cb6c3b1594",
            "414820eeb6c64041a071d1509ef26695",
            "ce5f615cb21f4b9daec8f78b10af2562",
            "dcb3ad4068eb4458a69fc22528d5749c",
            "56975f18eb7142c3bbbf96d6ab7c4840",
            "9b03bc606c5347d1a0ef1eb3ca7f251a",
            "44d3aa04cf694a5786b6962c28a721fa",
            "9121d20508fa431eaed4892db8133b97"
          ]
        },
        "id": "c867eb73-cf12-4fcf-8731-940d1dbc3152",
        "outputId": "c8506f97-1bf4-481f-add3-cd5883ba5315"
      },
      "source": [
        "import pandas as pd\n",
        "from tqdm.notebook import tqdm\n",
        "\n",
        "distance_types = ['geographic', 'genetic', 'syntactic', 'phonological', 'inventory']\n",
        "correlations = pd.DataFrame.from_dict({\n",
        "    distance_type: {\n",
        "        'random': correlate_distances(random_distance_helper, distance_type),\n",
        "        'suggested': correlate_distances(suggested_subword_size_distance_helper, distance_type),\n",
        "        'geographic': correlate_distances(geographic_distance_helper, distance_type),\n",
        "        'genetic': correlate_distances(genetic_distance_helper, distance_type),\n",
        "        'syntactic': correlate_distances(syntactic_distance_helper, distance_type),\n",
        "        'phonological': correlate_distances(phonological_distance_helper, distance_type),\n",
        "        'inventory': correlate_distances(inventory_distance_helper, distance_type),\n",
        "    }\n",
        "    for distance_type\n",
        "    in tqdm(distance_types)\n",
        "})\n",
        "correlations"
      ],
      "id": "c867eb73-cf12-4fcf-8731-940d1dbc3152",
      "execution_count": 22,
      "outputs": [
        {
          "output_type": "display_data",
          "data": {
            "application/vnd.jupyter.widget-view+json": {
              "model_id": "aa66be568c6b469aa9054102063d6fae",
              "version_minor": 0,
              "version_major": 2
            },
            "text/plain": [
              "  0%|          | 0/5 [00:00<?, ?it/s]"
            ]
          },
          "metadata": {}
        },
        {
          "output_type": "execute_result",
          "data": {
            "text/html": [
              "<div>\n",
              "<style scoped>\n",
              "    .dataframe tbody tr th:only-of-type {\n",
              "        vertical-align: middle;\n",
              "    }\n",
              "\n",
              "    .dataframe tbody tr th {\n",
              "        vertical-align: top;\n",
              "    }\n",
              "\n",
              "    .dataframe thead th {\n",
              "        text-align: right;\n",
              "    }\n",
              "</style>\n",
              "<table border=\"1\" class=\"dataframe\">\n",
              "  <thead>\n",
              "    <tr style=\"text-align: right;\">\n",
              "      <th></th>\n",
              "      <th>geographic</th>\n",
              "      <th>genetic</th>\n",
              "      <th>syntactic</th>\n",
              "      <th>phonological</th>\n",
              "      <th>inventory</th>\n",
              "    </tr>\n",
              "  </thead>\n",
              "  <tbody>\n",
              "    <tr>\n",
              "      <th>random</th>\n",
              "      <td>-0.069277</td>\n",
              "      <td>0.002929</td>\n",
              "      <td>0.008457</td>\n",
              "      <td>0.068337</td>\n",
              "      <td>0.030705</td>\n",
              "    </tr>\n",
              "    <tr>\n",
              "      <th>suggested</th>\n",
              "      <td>0.031968</td>\n",
              "      <td>0.025796</td>\n",
              "      <td>-0.003188</td>\n",
              "      <td>-0.025838</td>\n",
              "      <td>-0.017932</td>\n",
              "    </tr>\n",
              "    <tr>\n",
              "      <th>geographic</th>\n",
              "      <td>1.000000</td>\n",
              "      <td>0.276044</td>\n",
              "      <td>-0.233165</td>\n",
              "      <td>-0.172121</td>\n",
              "      <td>-0.151254</td>\n",
              "    </tr>\n",
              "    <tr>\n",
              "      <th>genetic</th>\n",
              "      <td>0.276044</td>\n",
              "      <td>1.000000</td>\n",
              "      <td>0.035659</td>\n",
              "      <td>0.067007</td>\n",
              "      <td>0.031538</td>\n",
              "    </tr>\n",
              "    <tr>\n",
              "      <th>syntactic</th>\n",
              "      <td>-0.233165</td>\n",
              "      <td>0.035659</td>\n",
              "      <td>1.000000</td>\n",
              "      <td>0.198463</td>\n",
              "      <td>0.272059</td>\n",
              "    </tr>\n",
              "    <tr>\n",
              "      <th>phonological</th>\n",
              "      <td>-0.172121</td>\n",
              "      <td>0.067007</td>\n",
              "      <td>0.198463</td>\n",
              "      <td>1.000000</td>\n",
              "      <td>0.280121</td>\n",
              "    </tr>\n",
              "    <tr>\n",
              "      <th>inventory</th>\n",
              "      <td>-0.151254</td>\n",
              "      <td>0.031538</td>\n",
              "      <td>0.272059</td>\n",
              "      <td>0.280121</td>\n",
              "      <td>1.000000</td>\n",
              "    </tr>\n",
              "  </tbody>\n",
              "</table>\n",
              "</div>"
            ],
            "text/plain": [
              "              geographic   genetic  syntactic  phonological  inventory\n",
              "random         -0.069277  0.002929   0.008457      0.068337   0.030705\n",
              "suggested       0.031968  0.025796  -0.003188     -0.025838  -0.017932\n",
              "geographic      1.000000  0.276044  -0.233165     -0.172121  -0.151254\n",
              "genetic         0.276044  1.000000   0.035659      0.067007   0.031538\n",
              "syntactic      -0.233165  0.035659   1.000000      0.198463   0.272059\n",
              "phonological   -0.172121  0.067007   0.198463      1.000000   0.280121\n",
              "inventory      -0.151254  0.031538   0.272059      0.280121   1.000000"
            ]
          },
          "metadata": {},
          "execution_count": 22
        }
      ]
    },
    {
      "cell_type": "markdown",
      "metadata": {
        "id": "yolCWTWcfrQK"
      },
      "source": [
        "We can see that the correlations between our language distance measure and the language distance measures of [Littell et al.][1] range between $-0.03$ (phonological) and $0.03$ (geographical). Since the absolute values are consistently smaller than random, we conclude that our language distance measure does not either correlate or anti-correlate with the other language  distance  measures. This is because our suggested subword sizes are based on latent data-driven features of text, which complement the hand-crafted linguistic features.\n",
        "\n",
        " [1]: https://github.com/antonisa/lang2vec#retrieving-pre-computed-distances"
      ],
      "id": "yolCWTWcfrQK"
    }
  ]
}